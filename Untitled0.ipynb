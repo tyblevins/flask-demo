{
 "metadata": {
  "name": "",
  "signature": "sha256:85bfa4349e2ac41d592e247acca12069147e4ccd7f1744a135d15490c8a8d15d"
 },
 "nbformat": 3,
 "nbformat_minor": 0,
 "worksheets": [
  {
   "cells": [
    {
     "cell_type": "code",
     "collapsed": false,
     "input": [
      "import requests\n",
      "import pandas as pd\n",
      "import simplejson as json"
     ],
     "language": "python",
     "metadata": {},
     "outputs": [],
     "prompt_number": 27
    },
    {
     "cell_type": "code",
     "collapsed": false,
     "input": [
      "ticker = 'AAPL'\n",
      "api_link = 'https://www.quandl.com/api/v3/datasets/WIKI/%s.json?api_key=u6zoduyGLcrx-vMz5AMN' % (ticker)\n",
      "r = requests.get(api_link)"
     ],
     "language": "python",
     "metadata": {},
     "outputs": [],
     "prompt_number": 7
    },
    {
     "cell_type": "code",
     "collapsed": false,
     "input": [
      "df = pd.read_json(r.text)"
     ],
     "language": "python",
     "metadata": {},
     "outputs": [],
     "prompt_number": 18
    },
    {
     "cell_type": "code",
     "collapsed": false,
     "input": [
      "data = json.loads(r.text)"
     ],
     "language": "python",
     "metadata": {},
     "outputs": [],
     "prompt_number": 32
    },
    {
     "cell_type": "code",
     "collapsed": false,
     "input": [
      "df = pd.DataFrame(data['dataset']['data'])\n",
      "df.columns = data['dataset']['column_names']"
     ],
     "language": "python",
     "metadata": {},
     "outputs": [],
     "prompt_number": 44
    },
    {
     "cell_type": "code",
     "collapsed": false,
     "input": [
      "df['Date'][0:22]"
     ],
     "language": "python",
     "metadata": {},
     "outputs": [
      {
       "metadata": {},
       "output_type": "pyout",
       "prompt_number": 56,
       "text": [
        "0     2015-12-11\n",
        "1     2015-12-10\n",
        "2     2015-12-09\n",
        "3     2015-12-08\n",
        "4     2015-12-07\n",
        "5     2015-12-04\n",
        "6     2015-12-03\n",
        "7     2015-12-02\n",
        "8     2015-12-01\n",
        "9     2015-11-30\n",
        "10    2015-11-27\n",
        "11    2015-11-25\n",
        "12    2015-11-24\n",
        "13    2015-11-23\n",
        "14    2015-11-20\n",
        "15    2015-11-19\n",
        "16    2015-11-18\n",
        "17    2015-11-17\n",
        "18    2015-11-16\n",
        "19    2015-11-13\n",
        "20    2015-11-12\n",
        "21    2015-11-11\n",
        "Name: Date, dtype: object"
       ]
      }
     ],
     "prompt_number": 56
    },
    {
     "cell_type": "code",
     "collapsed": false,
     "input": [
      "data['dataset']['column_names']"
     ],
     "language": "python",
     "metadata": {},
     "outputs": [
      {
       "metadata": {},
       "output_type": "pyout",
       "prompt_number": 43,
       "text": [
        "[u'Date',\n",
        " u'Open',\n",
        " u'High',\n",
        " u'Low',\n",
        " u'Close',\n",
        " u'Volume',\n",
        " u'Ex-Dividend',\n",
        " u'Split Ratio',\n",
        " u'Adj. Open',\n",
        " u'Adj. High',\n",
        " u'Adj. Low',\n",
        " u'Adj. Close',\n",
        " u'Adj. Volume']"
       ]
      }
     ],
     "prompt_number": 43
    },
    {
     "cell_type": "code",
     "collapsed": false,
     "input": [],
     "language": "python",
     "metadata": {},
     "outputs": []
    }
   ],
   "metadata": {}
  }
 ]
}